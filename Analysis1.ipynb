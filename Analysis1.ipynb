{
 "cells": [
  {
   "cell_type": "markdown",
   "id": "a65e7670",
   "metadata": {},
   "source": [
    "# Revenue Leakage and Profitability Analysis in the Hospitality Sector\n",
    "\n",
    "This notebook analyzes hotel booking data to identify revenue leakage and suggest strategies to improve profitability. We use booking-level data and enrich it using hotel, room, and date dimension tables to create a unified dataset for business insights.\n"
   ]
  },
  {
   "cell_type": "markdown",
   "id": "c17c4f3f",
   "metadata": {},
   "source": [
    "## Step 1: Preparing the Data for Analysis"
   ]
  },
  {
   "cell_type": "code",
   "execution_count": 1,
   "id": "a5149c20",
   "metadata": {},
   "outputs": [],
   "source": [
    "import pandas as pd\n",
    "import matplotlib.pyplot as plt\n",
    "import seaborn as sns\n"
   ]
  },
  {
   "cell_type": "code",
   "execution_count": 2,
   "id": "1bae4a05",
   "metadata": {},
   "outputs": [],
   "source": [
    "# FACT TABLE\n",
    "bookings = pd.read_csv(\"fact_bookings.csv\")\n",
    "\n",
    "# DIMENSION TABLES\n",
    "hotels = pd.read_csv(\"dim_hotels.csv\")\n",
    "rooms = pd.read_csv(\"dim_rooms.csv\")\n",
    "dates = pd.read_csv(\"dim_date.csv\")\n"
   ]
  },
  {
   "cell_type": "markdown",
   "id": "cd64e4f9",
   "metadata": {},
   "source": [
    "## Load Datasets\n",
    "\n",
    "We load the fact table and all dimension tables into pandas DataFrames.\n",
    "- `fact_bookings.csv` – main transactional data\n",
    "- `dim_hotels.csv` – hotel names, cities, categories\n",
    "- `dim_rooms.csv` – room type mapping\n",
    "- `dim_date.csv` – calendar features for time-based analysis"
   ]
  },
  {
   "cell_type": "code",
   "execution_count": 3,
   "id": "b72ce5ab",
   "metadata": {},
   "outputs": [],
   "source": [
    "bookings = bookings.merge(hotels, on='property_id', how='left')\n"
   ]
  },
  {
   "cell_type": "code",
   "execution_count": 4,
   "id": "2741d352",
   "metadata": {},
   "outputs": [],
   "source": [
    "bookings = bookings.merge(rooms, left_on='room_category', right_on='room_id', how='left')\n",
    "bookings.rename(columns={'room_class': 'room_type'}, inplace=True)\n",
    "bookings.drop(columns=['room_id'], inplace=True)\n"
   ]
  },
  {
   "cell_type": "code",
   "execution_count": 5,
   "id": "d0d75885",
   "metadata": {},
   "outputs": [],
   "source": [
    "# Convert to date only\n",
    "bookings['booking_date'] = pd.to_datetime(bookings['booking_date']).dt.date\n",
    "dates['date'] = pd.to_datetime(dates['date'], format='%d-%b-%y', errors='coerce').dt.date\n",
    "\n",
    "# Merge\n",
    "bookings = bookings.merge(\n",
    "    dates[['date', 'mmm yy', 'week no', 'day_type']],\n",
    "    left_on='booking_date',\n",
    "    right_on='date',\n",
    "    how='left'\n",
    ")\n",
    "bookings.drop(columns=['date'], inplace=True)\n",
    "\n",
    "# Optional: Filter out unmatched rows\n",
    "bookings = bookings[bookings['mmm yy'].notnull()]\n"
   ]
  },
  {
   "cell_type": "code",
   "execution_count": 6,
   "id": "157cee8e",
   "metadata": {},
   "outputs": [
    {
     "name": "stdout",
     "output_type": "stream",
     "text": [
      "<class 'pandas.core.frame.DataFrame'>\n",
      "Index: 128874 entries, 5 to 134589\n",
      "Data columns (total 19 columns):\n",
      " #   Column             Non-Null Count   Dtype  \n",
      "---  ------             --------------   -----  \n",
      " 0   booking_id         128874 non-null  object \n",
      " 1   property_id        128874 non-null  int64  \n",
      " 2   booking_date       128874 non-null  object \n",
      " 3   check_in_date      128874 non-null  object \n",
      " 4   checkout_date      128874 non-null  object \n",
      " 5   no_guests          128874 non-null  int64  \n",
      " 6   room_category      128874 non-null  object \n",
      " 7   booking_platform   128874 non-null  object \n",
      " 8   ratings_given      54292 non-null   float64\n",
      " 9   booking_status     128874 non-null  object \n",
      " 10  revenue_generated  128874 non-null  int64  \n",
      " 11  revenue_realized   128874 non-null  int64  \n",
      " 12  property_name      128874 non-null  object \n",
      " 13  category           128874 non-null  object \n",
      " 14  city               128874 non-null  object \n",
      " 15  room_type          128874 non-null  object \n",
      " 16  mmm yy             128874 non-null  object \n",
      " 17  week no            128874 non-null  object \n",
      " 18  day_type           128874 non-null  object \n",
      "dtypes: float64(1), int64(4), object(14)\n",
      "memory usage: 19.7+ MB\n",
      "None\n",
      "           booking_id  property_id booking_date check_in_date checkout_date  \\\n",
      "5    May012216558RT16        16558   2022-05-01    2022-05-01    2022-05-03   \n",
      "25   May012216558RT28        16558   2022-05-01    2022-05-01    2022-05-02   \n",
      "64  May012216559RT115        16559   2022-05-01    2022-05-01    2022-05-03   \n",
      "79   May012216559RT25        16559   2022-05-01    2022-05-01    2022-05-04   \n",
      "81   May012216559RT27        16559   2022-05-01    2022-05-01    2022-05-02   \n",
      "\n",
      "    no_guests room_category booking_platform  ratings_given booking_status  \\\n",
      "5           2           RT1           others            4.0    Checked Out   \n",
      "25          2           RT2           others            NaN    Checked Out   \n",
      "64          2           RT1         tripster            NaN    Checked Out   \n",
      "79          2           RT2           others            5.0    Checked Out   \n",
      "81          4           RT2           others            NaN      Cancelled   \n",
      "\n",
      "    revenue_generated  revenue_realized  property_name category    city  \\\n",
      "5                9100              9100   Atliq Grands   Luxury   Delhi   \n",
      "25              12600             12600   Atliq Grands   Luxury   Delhi   \n",
      "64              11050             11050  Atliq Exotica   Luxury  Mumbai   \n",
      "79              15300             15300  Atliq Exotica   Luxury  Mumbai   \n",
      "81              18360              7344  Atliq Exotica   Luxury  Mumbai   \n",
      "\n",
      "   room_type  mmm yy week no day_type  \n",
      "5   Standard  May 22    W 19  weekend  \n",
      "25     Elite  May 22    W 19  weekend  \n",
      "64  Standard  May 22    W 19  weekend  \n",
      "79     Elite  May 22    W 19  weekend  \n",
      "81     Elite  May 22    W 19  weekend  \n"
     ]
    }
   ],
   "source": [
    "print(bookings.info())\n",
    "print(bookings.head())\n"
   ]
  },
  {
   "cell_type": "markdown",
   "id": "2925b469",
   "metadata": {},
   "source": [
    "## Data Enrichment: Merging Dimension Tables\n",
    "\n",
    "To create a fully unified and analysis-ready dataset, we merged the following dimension tables into our primary fact table (`fact_bookings.csv`). Each merge added meaningful context to enhance our insights.\n",
    "\n",
    "### 1. Merge with `dim_hotels.csv`\n",
    "- **Join key**: `property_id`\n",
    "- **Added columns**: `property_name`, `category` (hotel type), `city`\n",
    "- **Purpose**: Enables location-based and hotel-level analysis (e.g., revenue by city or category)\n",
    "\n",
    "### 2. Merge with `dim_rooms.csv`\n",
    "- **Join key**: `room_category` (fact) → `room_id` (dim)\n",
    "- **Added column**: `room_class` (renamed as `room_type`)\n",
    "- **Purpose**: Enables analysis of profitability and leakage by room type (Standard, Elite, etc.)\n",
    "\n",
    "### 3. Merge with `dim_date.csv`\n",
    "- **Join key**: `booking_date` (fact) → `date` (dim)\n",
    "- **Date format**: Converted both columns to plain `date` (not datetime) before merging\n",
    "- **Added columns**: `mmm yy` (month), `week no`, `day_type` (weekend/weekday)\n",
    "- **Purpose**: Enables time-based trend analysis (e.g., revenue by month or weekend)\n",
    "\n",
    "After all merges, our dataset has:\n",
    "- Detailed transaction info\n",
    "- Hotel & room context\n",
    "- Temporal features\n",
    "\n",
    "This enriched dataset allows for deep business insights and supports effective revenue leakage analysis.\n"
   ]
  },
  {
   "cell_type": "code",
   "execution_count": 7,
   "id": "a8136a5f",
   "metadata": {},
   "outputs": [
    {
     "name": "stdout",
     "output_type": "stream",
     "text": [
      "Duplicate rows: 0\n"
     ]
    }
   ],
   "source": [
    "print(\"Duplicate rows:\", bookings.duplicated().sum())\n"
   ]
  },
  {
   "cell_type": "code",
   "execution_count": 8,
   "id": "2025d213",
   "metadata": {},
   "outputs": [
    {
     "name": "stdout",
     "output_type": "stream",
     "text": [
      "Nulls in each column:\n",
      "ratings_given        74582\n",
      "property_id              0\n",
      "booking_id               0\n",
      "booking_date             0\n",
      "check_in_date            0\n",
      "no_guests                0\n",
      "checkout_date            0\n",
      "room_category            0\n",
      "booking_platform         0\n",
      "booking_status           0\n",
      "revenue_generated        0\n",
      "revenue_realized         0\n",
      "property_name            0\n",
      "category                 0\n",
      "city                     0\n",
      "room_type                0\n",
      "mmm yy                   0\n",
      "week no                  0\n",
      "day_type                 0\n",
      "dtype: int64\n"
     ]
    }
   ],
   "source": [
    "print(\"Nulls in each column:\")\n",
    "print(bookings.isnull().sum().sort_values(ascending=False))\n"
   ]
  },
  {
   "cell_type": "code",
   "execution_count": 9,
   "id": "67472ff0",
   "metadata": {},
   "outputs": [
    {
     "name": "stdout",
     "output_type": "stream",
     "text": [
      "Missing ratings: 57.87%\n"
     ]
    }
   ],
   "source": [
    "null_percentage = bookings['ratings_given'].isnull().mean() * 100\n",
    "print(f\"Missing ratings: {null_percentage:.2f}%\")\n"
   ]
  },
  {
   "cell_type": "code",
   "execution_count": 10,
   "id": "0b43bb89",
   "metadata": {},
   "outputs": [
    {
     "name": "stdout",
     "output_type": "stream",
     "text": [
      "Final shape: (128874, 19)\n"
     ]
    }
   ],
   "source": [
    "print(\"Final shape:\", bookings.shape)\n"
   ]
  },
  {
   "cell_type": "markdown",
   "id": "6c89e1bd",
   "metadata": {},
   "source": [
    "## Clean and Validate the Final Dataset\n",
    "\n",
    "We check for:\n",
    "- Duplicates\n",
    "- Null values\n",
    "- Column consistency\n",
    "This ensures our dataset is clean and ready for analysis.\n",
    "\n"
   ]
  }
 ],
 "metadata": {
  "kernelspec": {
   "display_name": "Python 3",
   "language": "python",
   "name": "python3"
  },
  "language_info": {
   "codemirror_mode": {
    "name": "ipython",
    "version": 3
   },
   "file_extension": ".py",
   "mimetype": "text/x-python",
   "name": "python",
   "nbconvert_exporter": "python",
   "pygments_lexer": "ipython3",
   "version": "3.13.5"
  }
 },
 "nbformat": 4,
 "nbformat_minor": 5
}
