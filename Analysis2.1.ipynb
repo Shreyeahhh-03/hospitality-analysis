{
 "cells": [
  {
   "cell_type": "markdown",
   "id": "a65e7670",
   "metadata": {},
   "source": [
    "# Revenue Leakage and Profitability Analysis in the Hospitality Sector\n",
    "\n",
    "This notebook analyzes hotel booking data to identify revenue leakage and suggest strategies to improve profitability. We use booking-level data and enrich it using hotel, room, and date dimension tables to create a unified dataset for business insights.\n"
   ]
  },
  {
   "cell_type": "markdown",
   "id": "c17c4f3f",
   "metadata": {},
   "source": [
    "## Step 1: Preparing the Data for Analysis"
   ]
  },
  {
   "cell_type": "code",
   "execution_count": 1,
   "id": "a5149c20",
   "metadata": {},
   "outputs": [],
   "source": [
    "import pandas as pd\n",
    "import matplotlib.pyplot as plt\n",
    "import seaborn as sns\n"
   ]
  },
  {
   "cell_type": "code",
   "execution_count": 2,
   "id": "1bae4a05",
   "metadata": {},
   "outputs": [],
   "source": [
    "# FACT TABLE\n",
    "bookings = pd.read_csv(\"fact_bookings.csv\")\n",
    "\n",
    "# DIMENSION TABLES\n",
    "hotels = pd.read_csv(\"dim_hotels.csv\")\n",
    "rooms = pd.read_csv(\"dim_rooms.csv\")\n",
    "dates = pd.read_csv(\"dim_date.csv\")\n"
   ]
  },
  {
   "cell_type": "markdown",
   "id": "cd64e4f9",
   "metadata": {},
   "source": [
    "## Load Datasets\n",
    "\n",
    "We load the fact table and all dimension tables into pandas DataFrames.\n",
    "- `fact_bookings.csv` – main transactional data\n",
    "- `dim_hotels.csv` – hotel names, cities, categories\n",
    "- `dim_rooms.csv` – room type mapping\n",
    "- `dim_date.csv` – calendar features for time-based analysis"
   ]
  },
  {
   "cell_type": "code",
   "execution_count": 3,
   "id": "b72ce5ab",
   "metadata": {},
   "outputs": [],
   "source": [
    "bookings = bookings.merge(hotels, on='property_id', how='left')\n"
   ]
  },
  {
   "cell_type": "code",
   "execution_count": 4,
   "id": "2741d352",
   "metadata": {},
   "outputs": [],
   "source": [
    "bookings = bookings.merge(rooms, left_on='room_category', right_on='room_id', how='left')\n",
    "bookings.rename(columns={'room_class': 'room_type'}, inplace=True)\n",
    "bookings.drop(columns=['room_id'], inplace=True)\n"
   ]
  },
  {
   "cell_type": "code",
   "execution_count": 5,
   "id": "d0d75885",
   "metadata": {},
   "outputs": [],
   "source": [
    "# Convert to date only\n",
    "bookings['booking_date'] = pd.to_datetime(bookings['booking_date']).dt.date\n",
    "dates['date'] = pd.to_datetime(dates['date'], format='%d-%b-%y', errors='coerce').dt.date\n",
    "\n",
    "# Merge\n",
    "bookings = bookings.merge(\n",
    "    dates[['date', 'mmm yy', 'week no', 'day_type']],\n",
    "    left_on='booking_date',\n",
    "    right_on='date',\n",
    "    how='left'\n",
    ")\n",
    "bookings.drop(columns=['date'], inplace=True)\n",
    "\n",
    "# Optional: Filter out unmatched rows\n",
    "bookings = bookings[bookings['mmm yy'].notnull()]\n"
   ]
  },
  {
   "cell_type": "code",
   "execution_count": 6,
   "id": "157cee8e",
   "metadata": {},
   "outputs": [
    {
     "name": "stdout",
     "output_type": "stream",
     "text": [
      "<class 'pandas.core.frame.DataFrame'>\n",
      "Index: 128874 entries, 5 to 134589\n",
      "Data columns (total 19 columns):\n",
      " #   Column             Non-Null Count   Dtype  \n",
      "---  ------             --------------   -----  \n",
      " 0   booking_id         128874 non-null  object \n",
      " 1   property_id        128874 non-null  int64  \n",
      " 2   booking_date       128874 non-null  object \n",
      " 3   check_in_date      128874 non-null  object \n",
      " 4   checkout_date      128874 non-null  object \n",
      " 5   no_guests          128874 non-null  int64  \n",
      " 6   room_category      128874 non-null  object \n",
      " 7   booking_platform   128874 non-null  object \n",
      " 8   ratings_given      54292 non-null   float64\n",
      " 9   booking_status     128874 non-null  object \n",
      " 10  revenue_generated  128874 non-null  int64  \n",
      " 11  revenue_realized   128874 non-null  int64  \n",
      " 12  property_name      128874 non-null  object \n",
      " 13  category           128874 non-null  object \n",
      " 14  city               128874 non-null  object \n",
      " 15  room_type          128874 non-null  object \n",
      " 16  mmm yy             128874 non-null  object \n",
      " 17  week no            128874 non-null  object \n",
      " 18  day_type           128874 non-null  object \n",
      "dtypes: float64(1), int64(4), object(14)\n",
      "memory usage: 19.7+ MB\n",
      "None\n",
      "           booking_id  property_id booking_date check_in_date checkout_date  \\\n",
      "5    May012216558RT16        16558   2022-05-01    2022-05-01    2022-05-03   \n",
      "25   May012216558RT28        16558   2022-05-01    2022-05-01    2022-05-02   \n",
      "64  May012216559RT115        16559   2022-05-01    2022-05-01    2022-05-03   \n",
      "79   May012216559RT25        16559   2022-05-01    2022-05-01    2022-05-04   \n",
      "81   May012216559RT27        16559   2022-05-01    2022-05-01    2022-05-02   \n",
      "\n",
      "    no_guests room_category booking_platform  ratings_given booking_status  \\\n",
      "5           2           RT1           others            4.0    Checked Out   \n",
      "25          2           RT2           others            NaN    Checked Out   \n",
      "64          2           RT1         tripster            NaN    Checked Out   \n",
      "79          2           RT2           others            5.0    Checked Out   \n",
      "81          4           RT2           others            NaN      Cancelled   \n",
      "\n",
      "    revenue_generated  revenue_realized  property_name category    city  \\\n",
      "5                9100              9100   Atliq Grands   Luxury   Delhi   \n",
      "25              12600             12600   Atliq Grands   Luxury   Delhi   \n",
      "64              11050             11050  Atliq Exotica   Luxury  Mumbai   \n",
      "79              15300             15300  Atliq Exotica   Luxury  Mumbai   \n",
      "81              18360              7344  Atliq Exotica   Luxury  Mumbai   \n",
      "\n",
      "   room_type  mmm yy week no day_type  \n",
      "5   Standard  May 22    W 19  weekend  \n",
      "25     Elite  May 22    W 19  weekend  \n",
      "64  Standard  May 22    W 19  weekend  \n",
      "79     Elite  May 22    W 19  weekend  \n",
      "81     Elite  May 22    W 19  weekend  \n"
     ]
    }
   ],
   "source": [
    "print(bookings.info())\n",
    "print(bookings.head())\n"
   ]
  },
  {
   "cell_type": "markdown",
   "id": "2925b469",
   "metadata": {},
   "source": [
    "## Data Enrichment: Merging Dimension Tables\n",
    "\n",
    "To create a fully unified and analysis-ready dataset, we merged the following dimension tables into our primary fact table (`fact_bookings.csv`). Each merge added meaningful context to enhance our insights.\n",
    "\n",
    "### 1. Merge with `dim_hotels.csv`\n",
    "- **Join key**: `property_id`\n",
    "- **Added columns**: `property_name`, `category` (hotel type), `city`\n",
    "- **Purpose**: Enables location-based and hotel-level analysis (e.g., revenue by city or category)\n",
    "\n",
    "### 2. Merge with `dim_rooms.csv`\n",
    "- **Join key**: `room_category` (fact) → `room_id` (dim)\n",
    "- **Added column**: `room_class` (renamed as `room_type`)\n",
    "- **Purpose**: Enables analysis of profitability and leakage by room type (Standard, Elite, etc.)\n",
    "\n",
    "### 3. Merge with `dim_date.csv`\n",
    "- **Join key**: `booking_date` (fact) → `date` (dim)\n",
    "- **Date format**: Converted both columns to plain `date` (not datetime) before merging\n",
    "- **Added columns**: `mmm yy` (month), `week no`, `day_type` (weekend/weekday)\n",
    "- **Purpose**: Enables time-based trend analysis (e.g., revenue by month or weekend)\n",
    "\n",
    "After all merges, our dataset has:\n",
    "- Detailed transaction info\n",
    "- Hotel & room context\n",
    "- Temporal features\n",
    "\n",
    "This enriched dataset allows for deep business insights and supports effective revenue leakage analysis.\n"
   ]
  },
  {
   "cell_type": "code",
   "execution_count": 7,
   "id": "a8136a5f",
   "metadata": {},
   "outputs": [
    {
     "name": "stdout",
     "output_type": "stream",
     "text": [
      "Duplicate rows: 0\n"
     ]
    }
   ],
   "source": [
    "print(\"Duplicate rows:\", bookings.duplicated().sum())\n"
   ]
  },
  {
   "cell_type": "code",
   "execution_count": 8,
   "id": "2025d213",
   "metadata": {},
   "outputs": [
    {
     "name": "stdout",
     "output_type": "stream",
     "text": [
      "Nulls in each column:\n",
      "ratings_given        74582\n",
      "property_id              0\n",
      "booking_id               0\n",
      "booking_date             0\n",
      "check_in_date            0\n",
      "no_guests                0\n",
      "checkout_date            0\n",
      "room_category            0\n",
      "booking_platform         0\n",
      "booking_status           0\n",
      "revenue_generated        0\n",
      "revenue_realized         0\n",
      "property_name            0\n",
      "category                 0\n",
      "city                     0\n",
      "room_type                0\n",
      "mmm yy                   0\n",
      "week no                  0\n",
      "day_type                 0\n",
      "dtype: int64\n"
     ]
    }
   ],
   "source": [
    "print(\"Nulls in each column:\")\n",
    "print(bookings.isnull().sum().sort_values(ascending=False))\n"
   ]
  },
  {
   "cell_type": "code",
   "execution_count": 9,
   "id": "67472ff0",
   "metadata": {},
   "outputs": [
    {
     "name": "stdout",
     "output_type": "stream",
     "text": [
      "Missing ratings: 57.87%\n"
     ]
    }
   ],
   "source": [
    "null_percentage = bookings['ratings_given'].isnull().mean() * 100\n",
    "print(f\"Missing ratings: {null_percentage:.2f}%\")\n"
   ]
  },
  {
   "cell_type": "code",
   "execution_count": 10,
   "id": "0b43bb89",
   "metadata": {},
   "outputs": [
    {
     "name": "stdout",
     "output_type": "stream",
     "text": [
      "Final shape: (128874, 19)\n"
     ]
    }
   ],
   "source": [
    "print(\"Final shape:\", bookings.shape)\n"
   ]
  },
  {
   "cell_type": "markdown",
   "id": "6c89e1bd",
   "metadata": {},
   "source": [
    "## Clean and Validate the Final Dataset\n",
    "\n",
    "We check for:\n",
    "- Duplicates\n",
    "- Null values\n",
    "- Column consistency\n",
    "This ensures our dataset is clean and ready for analysis.\n",
    "\n"
   ]
  },
  {
   "cell_type": "code",
   "execution_count": 11,
   "id": "35d43d04",
   "metadata": {},
   "outputs": [],
   "source": [
    "bookings.to_csv(\"final_bookings_cleaned.csv\", index=False)\n"
   ]
  },
  {
   "cell_type": "markdown",
   "id": "09ed9987",
   "metadata": {},
   "source": [
    "## Step 2: Revenue Leakage Analysis"
   ]
  },
  {
   "cell_type": "code",
   "execution_count": 12,
   "id": "cba6932f",
   "metadata": {},
   "outputs": [],
   "source": [
    "bookings['revenue_loss'] = bookings['revenue_generated'] - bookings['revenue_realized']\n"
   ]
  },
  {
   "cell_type": "code",
   "execution_count": 13,
   "id": "00e84647",
   "metadata": {},
   "outputs": [
    {
     "data": {
      "text/html": [
       "<div>\n",
       "<style scoped>\n",
       "    .dataframe tbody tr th:only-of-type {\n",
       "        vertical-align: middle;\n",
       "    }\n",
       "\n",
       "    .dataframe tbody tr th {\n",
       "        vertical-align: top;\n",
       "    }\n",
       "\n",
       "    .dataframe thead th {\n",
       "        text-align: right;\n",
       "    }\n",
       "</style>\n",
       "<table border=\"1\" class=\"dataframe\">\n",
       "  <thead>\n",
       "    <tr style=\"text-align: right;\">\n",
       "      <th></th>\n",
       "      <th>revenue_generated</th>\n",
       "      <th>revenue_realized</th>\n",
       "      <th>revenue_loss</th>\n",
       "    </tr>\n",
       "  </thead>\n",
       "  <tbody>\n",
       "    <tr>\n",
       "      <th>5</th>\n",
       "      <td>9100</td>\n",
       "      <td>9100</td>\n",
       "      <td>0</td>\n",
       "    </tr>\n",
       "    <tr>\n",
       "      <th>25</th>\n",
       "      <td>12600</td>\n",
       "      <td>12600</td>\n",
       "      <td>0</td>\n",
       "    </tr>\n",
       "    <tr>\n",
       "      <th>64</th>\n",
       "      <td>11050</td>\n",
       "      <td>11050</td>\n",
       "      <td>0</td>\n",
       "    </tr>\n",
       "    <tr>\n",
       "      <th>79</th>\n",
       "      <td>15300</td>\n",
       "      <td>15300</td>\n",
       "      <td>0</td>\n",
       "    </tr>\n",
       "    <tr>\n",
       "      <th>81</th>\n",
       "      <td>18360</td>\n",
       "      <td>7344</td>\n",
       "      <td>11016</td>\n",
       "    </tr>\n",
       "  </tbody>\n",
       "</table>\n",
       "</div>"
      ],
      "text/plain": [
       "    revenue_generated  revenue_realized  revenue_loss\n",
       "5                9100              9100             0\n",
       "25              12600             12600             0\n",
       "64              11050             11050             0\n",
       "79              15300             15300             0\n",
       "81              18360              7344         11016"
      ]
     },
     "execution_count": 13,
     "metadata": {},
     "output_type": "execute_result"
    }
   ],
   "source": [
    "bookings[['revenue_generated', 'revenue_realized', 'revenue_loss']].head()\n"
   ]
  },
  {
   "cell_type": "code",
   "execution_count": 14,
   "id": "5640c1d3",
   "metadata": {},
   "outputs": [
    {
     "name": "stdout",
     "output_type": "stream",
     "text": [
      "Bookings with revenue loss: 31934\n"
     ]
    }
   ],
   "source": [
    "loss_count = (bookings['revenue_loss'] > 0).sum()\n",
    "print(f\"Bookings with revenue loss: {loss_count}\")\n"
   ]
  },
  {
   "cell_type": "code",
   "execution_count": 15,
   "id": "fcd1d4cf",
   "metadata": {},
   "outputs": [
    {
     "data": {
      "image/png": "[encoded data removed]",
      "text/plain": [
       "<Figure size 800x400 with 1 Axes>"
      ]
     },
     "metadata": {},
     "output_type": "display_data"
    }
   ],
   "source": [
    "import matplotlib.pyplot as plt\n",
    "import seaborn as sns\n",
    "\n",
    "plt.figure(figsize=(8, 4))\n",
    "sns.histplot(bookings['revenue_loss'], bins=50, kde=True, color='orangered')\n",
    "plt.title(\"Distribution of Revenue Loss per Booking\")\n",
    "plt.xlabel(\"Revenue Loss (₹)\")\n",
    "plt.ylabel(\"Number of Bookings\")\n",
    "plt.show()\n"
   ]
  },
  {
   "cell_type": "markdown",
   "id": "39c4adea",
   "metadata": {},
   "source": [
    "## Revenue Loss per Booking\n",
    "We added a new column to calculate revenue loss per booking using the formula:  \n",
    "`revenue_loss = revenue_generated - revenue_realized`\n",
    "\n",
    "We saw that about 25% of bookings had some loss. \n",
    "Most losses were small, but a few bookings had very high loss, \n",
    "which could be due to booking failures or policy issues.\n",
    "We also plotted a histogram of `revenue_loss` to understand how it is distributed.\n",
    "\n"
   ]
  },
  {
   "cell_type": "code",
   "execution_count": 16,
   "id": "43895417",
   "metadata": {},
   "outputs": [],
   "source": [
    "total_generated = bookings['revenue_generated'].sum()\n",
    "total_realized = bookings['revenue_realized'].sum()\n",
    "total_loss = bookings['revenue_loss'].sum()\n"
   ]
  },
  {
   "cell_type": "code",
   "execution_count": 17,
   "id": "be173e20",
   "metadata": {},
   "outputs": [
    {
     "name": "stdout",
     "output_type": "stream",
     "text": [
      "Total revenue loss: ₹285496455\n",
      "Percentage of revenue lost: 14.85%\n"
     ]
    }
   ],
   "source": [
    "leakage_percent = (total_loss / total_generated) * 100\n",
    "print(f\"Total revenue loss: ₹{total_loss}\")\n",
    "print(f\"Percentage of revenue lost: {leakage_percent:.2f}%\")\n"
   ]
  },
  {
   "cell_type": "code",
   "execution_count": 18,
   "id": "217e66a7",
   "metadata": {},
   "outputs": [
    {
     "data": {
      "image/png": "[encoded data removed]",
      "text/plain": [
       "<Figure size 640x480 with 1 Axes>"
      ]
     },
     "metadata": {},
     "output_type": "display_data"
    }
   ],
   "source": [
    "import matplotlib.pyplot as plt\n",
    "\n",
    "plt.pie(\n",
    "    [total_realized, total_loss],\n",
    "    labels=['Realized Revenue', 'Lost Revenue'],\n",
    "    autopct='%1.1f%%',\n",
    "    colors=['#4CAF50', '#FF5733'],\n",
    "    startangle=90\n",
    ")\n",
    "plt.title(\"Total Revenue Distribution\")\n",
    "plt.show()\n"
   ]
  },
  {
   "cell_type": "markdown",
   "id": "997c5dfe",
   "metadata": {},
   "source": [
    "## Total Revenue Leakage\n",
    "We calculated the total revenue generated, revenue realized, and the total revenue lost across all bookings.\n",
    "\n",
    "**Key Result:**\n",
    "- Total revenue loss: ₹28.55 Crores\n",
    "- Loss percentage: 14.85%\n",
    "This shows that a significant portion of expected revenue is not realized across the system."
   ]
  },
  {
   "cell_type": "code",
   "execution_count": 19,
   "id": "060a35ea",
   "metadata": {},
   "outputs": [],
   "source": [
    "platform_stats = bookings.groupby('booking_platform').agg({\n",
    "    'revenue_generated': 'sum',\n",
    "    'revenue_realized': 'sum',\n",
    "    'revenue_loss': 'sum'\n",
    "}).reset_index()\n"
   ]
  },
  {
   "cell_type": "code",
   "execution_count": 20,
   "id": "6ba4e93e",
   "metadata": {},
   "outputs": [],
   "source": [
    "platform_stats['leakage_percent'] = (platform_stats['revenue_loss'] / platform_stats['revenue_generated']) * 100\n"
   ]
  },
  {
   "cell_type": "code",
   "execution_count": 21,
   "id": "f11357be",
   "metadata": {},
   "outputs": [
    {
     "name": "stdout",
     "output_type": "stream",
     "text": [
      "  booking_platform  revenue_generated  revenue_realized  revenue_loss  \\\n",
      "4     makeyourtrip          384211545         326297685      57913860   \n",
      "2          journey          115292435          98036498      17255937   \n",
      "1    direct online          190817760         162425889      28391871   \n",
      "6         tripster          138028580         117554645      20473935   \n",
      "5           others          786756370         670153069     116603301   \n",
      "0   direct offline           97091425          82801660      14289765   \n",
      "3          logtrip          210456200         179888414      30567786   \n",
      "\n",
      "   leakage_percent  \n",
      "4        15.073430  \n",
      "2        14.967103  \n",
      "1        14.879051  \n",
      "6        14.833113  \n",
      "5        14.820764  \n",
      "0        14.717845  \n",
      "3        14.524536  \n"
     ]
    }
   ],
   "source": [
    "platform_stats = platform_stats.sort_values(by='leakage_percent', ascending=False)\n",
    "print(platform_stats)\n"
   ]
  },
  {
   "cell_type": "code",
   "execution_count": 22,
   "id": "62f6f398",
   "metadata": {},
   "outputs": [
    {
     "data": {
      "image/png": "[encoded data removed]",
      "text/plain": [
       "<Figure size 800x500 with 1 Axes>"
      ]
     },
     "metadata": {},
     "output_type": "display_data"
    }
   ],
   "source": [
    "import matplotlib.pyplot as plt\n",
    "\n",
    "plt.figure(figsize=(8, 5))\n",
    "plt.barh(platform_stats['booking_platform'], platform_stats['revenue_loss'], color='tomato')\n",
    "plt.xlabel(\"Revenue Loss (₹)\")\n",
    "plt.title(\"Revenue Loss by Booking Platform\")\n",
    "plt.grid(axis='x')\n",
    "plt.show()\n"
   ]
  },
  {
   "cell_type": "markdown",
   "id": "701aabbd",
   "metadata": {},
   "source": [
    "## Revenue Leakage by Booking Platform\n",
    "We grouped bookings by `booking_platform` to compare total revenue loss and leakage percentages.\n",
    "\n",
    "**Key Findings:**\n",
    "- All platforms had a similar leakage % (~15%)\n",
    "- However, total revenue loss varied a lot depending on booking volume\n",
    "- The ‘others’ group showed the highest total loss\n",
    "We visualized this using a horizontal bar chart.\n",
    "\n"
   ]
  },
  {
   "cell_type": "code",
   "execution_count": 23,
   "id": "d5c3e35b",
   "metadata": {},
   "outputs": [],
   "source": [
    "bookings.to_csv(\"bookings_with_analysis.csv\", index=False)\n"
   ]
  },
  {
   "cell_type": "code",
   "execution_count": 24,
   "id": "6e893799",
   "metadata": {},
   "outputs": [],
   "source": [
    "# Drop rows where ratings_given is missing\n",
    "ratings_data = bookings.dropna(subset=['ratings_given'])\n"
   ]
  },
  {
   "cell_type": "code",
   "execution_count": 25,
   "id": "93775e7d",
   "metadata": {},
   "outputs": [
    {
     "name": "stdout",
     "output_type": "stream",
     "text": [
      "Correlation between ratings and revenue loss: nan\n"
     ]
    },
    {
     "name": "stderr",
     "output_type": "stream",
     "text": [
      "c:\\Users\\shrey\\AppData\\Local\\Programs\\Python\\Python313\\Lib\\site-packages\\numpy\\lib\\_function_base_impl.py:3063: RuntimeWarning: invalid value encountered in divide\n",
      "  c /= stddev[:, None]\n",
      "c:\\Users\\shrey\\AppData\\Local\\Programs\\Python\\Python313\\Lib\\site-packages\\numpy\\lib\\_function_base_impl.py:3064: RuntimeWarning: invalid value encountered in divide\n",
      "  c /= stddev[None, :]\n"
     ]
    }
   ],
   "source": [
    "# Calculate correlation between ratings and revenue loss\n",
    "correlation = ratings_data['ratings_given'].corr(ratings_data['revenue_loss'])\n",
    "print(f\"Correlation between ratings and revenue loss: {correlation:.4f}\")\n"
   ]
  },
  {
   "cell_type": "code",
   "execution_count": 26,
   "id": "4256f84c",
   "metadata": {},
   "outputs": [
    {
     "data": {
      "image/png": "[encoded data removed]",
      "text/plain": [
       "<Figure size 600x400 with 1 Axes>"
      ]
     },
     "metadata": {},
     "output_type": "display_data"
    }
   ],
   "source": [
    "import matplotlib.pyplot as plt\n",
    "import seaborn as sns\n",
    "\n",
    "plt.figure(figsize=(6, 4))\n",
    "sns.scatterplot(x='ratings_given', y='revenue_loss', data=ratings_data, alpha=0.3)\n",
    "plt.title(\"Ratings vs Revenue Loss\")\n",
    "plt.xlabel(\"Ratings Given\")\n",
    "plt.ylabel(\"Revenue Loss (₹)\")\n",
    "plt.grid(True)\n",
    "plt.show()\n"
   ]
  },
  {
   "cell_type": "markdown",
   "id": "d2b6a462",
   "metadata": {},
   "source": [
    "## Optional Analysis: Correlation Between Ratings and Revenue Loss\n",
    "We tried to find out if there’s any connection between customer ratings and the amount of revenue lost per booking.\n",
    "\n",
    "We removed rows that had missing ratings and calculated the correlation between `ratings_given` and `revenue_loss`. \n",
    "However, most of the rows with ratings had no revenue loss, so there wasn’t enough variation in the data.\n",
    "As a result, the correlation value was undefined, and the scatterplot showed no real pattern.\n",
    "\n",
    "### What We Can Take From This:\n",
    "This tells us that bookings with revenue loss usually don’t have a rating — possibly because the booking was canceled or not completed. So even though we didn’t get a numeric correlation, we still learn that missing ratings could signal a lost or broken customer experience.\n"
   ]
  },
  {
   "cell_type": "code",
   "execution_count": 27,
   "id": "e651afc4",
   "metadata": {},
   "outputs": [],
   "source": [
    "ratings_data.to_csv(\"bookings_with_ratings_only.csv\", index=False)\n"
   ]
  },
  {
   "cell_type": "markdown",
   "id": "d40955b9",
   "metadata": {},
   "source": [
    "## Summary: Possible Reasons Behind Revenue Loss\n",
    "While analyzing revenue loss, we need to consider that multiple factors could be contributing to it — not just cancellations.\n",
    "\n",
    "Based on real-world scenarios, here are other possible causes:\n",
    "- **Platform commissions**: Some platforms deduct a fixed fee from each booking.\n",
    "- **Discounts or coupons**: Late-stage discounts can reduce realized revenue.\n",
    "- **No-shows without penalties**: If the guest doesn’t show up and there’s no charge, the hotel earns nothing.\n",
    "- **Partial stays or early check-outs**: If someone leaves early and gets refunded.\n",
    "- **Payment failures or reversals**: Sometimes the amount generated may not reach the hotel due to failed transactions or chargebacks.\n",
    "\n",
    "Since our dataset only shows the numbers (generated vs realized), we cannot know the exact reason in each case. But these possibilities are important to remember when drawing conclusions and giving suggestions.\n"
   ]
  }
 ],
 "metadata": {
  "kernelspec": {
   "display_name": "Python 3",
   "language": "python",
   "name": "python3"
  },
  "language_info": {
   "codemirror_mode": {
    "name": "ipython",
    "version": 3
   },
   "file_extension": ".py",
   "mimetype": "text/x-python",
   "name": "python",
   "nbconvert_exporter": "python",
   "pygments_lexer": "ipython3",
   "version": "3.13.5"
  }
 },
 "nbformat": 4,
 "nbformat_minor": 5
}
